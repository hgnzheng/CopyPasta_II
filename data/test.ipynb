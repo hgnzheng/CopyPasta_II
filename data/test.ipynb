{
 "cells": [
  {
   "cell_type": "code",
   "execution_count": 7,
   "metadata": {},
   "outputs": [],
   "source": [
    "import pandas as pd"
   ]
  },
  {
   "cell_type": "code",
   "execution_count": 8,
   "metadata": {},
   "outputs": [
    {
     "data": {
      "text/html": [
       "<div>\n",
       "<style scoped>\n",
       "    .dataframe tbody tr th:only-of-type {\n",
       "        vertical-align: middle;\n",
       "    }\n",
       "\n",
       "    .dataframe tbody tr th {\n",
       "        vertical-align: top;\n",
       "    }\n",
       "\n",
       "    .dataframe thead th {\n",
       "        text-align: right;\n",
       "    }\n",
       "</style>\n",
       "<table border=\"1\" class=\"dataframe\">\n",
       "  <thead>\n",
       "    <tr style=\"text-align: right;\">\n",
       "      <th></th>\n",
       "      <th>caseid</th>\n",
       "      <th>tname</th>\n",
       "      <th>tid</th>\n",
       "    </tr>\n",
       "  </thead>\n",
       "  <tbody>\n",
       "    <tr>\n",
       "      <th>0</th>\n",
       "      <td>1</td>\n",
       "      <td>BIS/BIS</td>\n",
       "      <td>fd869e25ba82a66cc95b38ed47110bf4f14bb368</td>\n",
       "    </tr>\n",
       "    <tr>\n",
       "      <th>1</th>\n",
       "      <td>1</td>\n",
       "      <td>BIS/EEG1_WAV</td>\n",
       "      <td>0aa685df768489a18a5e9f53af0d83bf60890c73</td>\n",
       "    </tr>\n",
       "    <tr>\n",
       "      <th>2</th>\n",
       "      <td>1</td>\n",
       "      <td>BIS/EEG2_WAV</td>\n",
       "      <td>ad13b2c39b19193c8ae4a2de4f8315f18d61a57e</td>\n",
       "    </tr>\n",
       "    <tr>\n",
       "      <th>3</th>\n",
       "      <td>1</td>\n",
       "      <td>BIS/EMG</td>\n",
       "      <td>2525603efe18d982764dbca457affe7a45e766a9</td>\n",
       "    </tr>\n",
       "    <tr>\n",
       "      <th>4</th>\n",
       "      <td>1</td>\n",
       "      <td>BIS/SEF</td>\n",
       "      <td>1c91aec859304840dec75acf4a35da78be0e8ef0</td>\n",
       "    </tr>\n",
       "    <tr>\n",
       "      <th>...</th>\n",
       "      <td>...</td>\n",
       "      <td>...</td>\n",
       "      <td>...</td>\n",
       "    </tr>\n",
       "    <tr>\n",
       "      <th>486444</th>\n",
       "      <td>6388</td>\n",
       "      <td>Solar8000/VENT_PIP</td>\n",
       "      <td>2d63adbc7e2653f14348e219816673cde3358cf6</td>\n",
       "    </tr>\n",
       "    <tr>\n",
       "      <th>486445</th>\n",
       "      <td>6388</td>\n",
       "      <td>Solar8000/VENT_PPLAT</td>\n",
       "      <td>6f6604255858ddc8f6a01b9f4774b0d43105f6da</td>\n",
       "    </tr>\n",
       "    <tr>\n",
       "      <th>486446</th>\n",
       "      <td>6388</td>\n",
       "      <td>Solar8000/VENT_RR</td>\n",
       "      <td>f34f3fae7fd963355c1c7060e1e876d20fa87536</td>\n",
       "    </tr>\n",
       "    <tr>\n",
       "      <th>486447</th>\n",
       "      <td>6388</td>\n",
       "      <td>Solar8000/VENT_SET_TV</td>\n",
       "      <td>4a4a55b8aebf9c76a4a76f62a7c1ec6fcb80e618</td>\n",
       "    </tr>\n",
       "    <tr>\n",
       "      <th>486448</th>\n",
       "      <td>6388</td>\n",
       "      <td>Solar8000/VENT_TV</td>\n",
       "      <td>77453bd3c4bf24ce13e577781a51929281f3b7f2</td>\n",
       "    </tr>\n",
       "  </tbody>\n",
       "</table>\n",
       "<p>486449 rows × 3 columns</p>\n",
       "</div>"
      ],
      "text/plain": [
       "        caseid                  tname  \\\n",
       "0            1                BIS/BIS   \n",
       "1            1           BIS/EEG1_WAV   \n",
       "2            1           BIS/EEG2_WAV   \n",
       "3            1                BIS/EMG   \n",
       "4            1                BIS/SEF   \n",
       "...        ...                    ...   \n",
       "486444    6388     Solar8000/VENT_PIP   \n",
       "486445    6388   Solar8000/VENT_PPLAT   \n",
       "486446    6388      Solar8000/VENT_RR   \n",
       "486447    6388  Solar8000/VENT_SET_TV   \n",
       "486448    6388      Solar8000/VENT_TV   \n",
       "\n",
       "                                             tid  \n",
       "0       fd869e25ba82a66cc95b38ed47110bf4f14bb368  \n",
       "1       0aa685df768489a18a5e9f53af0d83bf60890c73  \n",
       "2       ad13b2c39b19193c8ae4a2de4f8315f18d61a57e  \n",
       "3       2525603efe18d982764dbca457affe7a45e766a9  \n",
       "4       1c91aec859304840dec75acf4a35da78be0e8ef0  \n",
       "...                                          ...  \n",
       "486444  2d63adbc7e2653f14348e219816673cde3358cf6  \n",
       "486445  6f6604255858ddc8f6a01b9f4774b0d43105f6da  \n",
       "486446  f34f3fae7fd963355c1c7060e1e876d20fa87536  \n",
       "486447  4a4a55b8aebf9c76a4a76f62a7c1ec6fcb80e618  \n",
       "486448  77453bd3c4bf24ce13e577781a51929281f3b7f2  \n",
       "\n",
       "[486449 rows x 3 columns]"
      ]
     },
     "execution_count": 8,
     "metadata": {},
     "output_type": "execute_result"
    }
   ],
   "source": [
    "df = pd.read_csv('trks.txt')\n",
    "df"
   ]
  },
  {
   "cell_type": "code",
   "execution_count": 9,
   "metadata": {},
   "outputs": [],
   "source": [
    "df['tname2'] = df['tname'].str.split('/').str[1]\n",
    "df['tname'] = df['tname'].str.split('/').str[0]"
   ]
  },
  {
   "cell_type": "code",
   "execution_count": 10,
   "metadata": {},
   "outputs": [
    {
     "data": {
      "text/plain": [
       "tid       42\n",
       "tname2    42\n",
       "dtype: int64"
      ]
     },
     "execution_count": 10,
     "metadata": {},
     "output_type": "execute_result"
    }
   ],
   "source": [
    "df.groupby(['caseid', 'tname']).count().max()"
   ]
  },
  {
   "cell_type": "code",
   "execution_count": 11,
   "metadata": {},
   "outputs": [
    {
     "data": {
      "text/plain": [
       "array(['BIS', 'Primus', 'SNUADC', 'Solar8000', 'Orchestra', 'FMS',\n",
       "       'Vigilance', 'EV1000', 'CardioQ', 'Vigileo', 'Invos'], dtype=object)"
      ]
     },
     "execution_count": 11,
     "metadata": {},
     "output_type": "execute_result"
    }
   ],
   "source": [
    "df['tname'].unique()"
   ]
  },
  {
   "cell_type": "code",
   "execution_count": 13,
   "metadata": {},
   "outputs": [
    {
     "data": {
      "text/plain": [
       "315"
      ]
     },
     "execution_count": 13,
     "metadata": {},
     "output_type": "execute_result"
    }
   ],
   "source": [
    "df['tname2'].str.len().argmax()"
   ]
  },
  {
   "cell_type": "code",
   "execution_count": 15,
   "metadata": {},
   "outputs": [
    {
     "data": {
      "text/plain": [
       "caseid                                           5\n",
       "tname                                          FMS\n",
       "tid       678b14a8100e87a9e258652b0427f0c7658d18e1\n",
       "tname2                             OUTPUT_AMB_TEMP\n",
       "Name: 315, dtype: object"
      ]
     },
     "execution_count": 15,
     "metadata": {},
     "output_type": "execute_result"
    }
   ],
   "source": [
    "df.iloc[315]"
   ]
  },
  {
   "cell_type": "code",
   "execution_count": 18,
   "metadata": {},
   "outputs": [
    {
     "data": {
      "text/html": [
       "<div>\n",
       "<style scoped>\n",
       "    .dataframe tbody tr th:only-of-type {\n",
       "        vertical-align: middle;\n",
       "    }\n",
       "\n",
       "    .dataframe tbody tr th {\n",
       "        vertical-align: top;\n",
       "    }\n",
       "\n",
       "    .dataframe thead th {\n",
       "        text-align: right;\n",
       "    }\n",
       "</style>\n",
       "<table border=\"1\" class=\"dataframe\">\n",
       "  <thead>\n",
       "    <tr style=\"text-align: right;\">\n",
       "      <th></th>\n",
       "      <th>caseid</th>\n",
       "      <th>tname</th>\n",
       "      <th>tid</th>\n",
       "      <th>tname2</th>\n",
       "    </tr>\n",
       "  </thead>\n",
       "  <tbody>\n",
       "    <tr>\n",
       "      <th>304</th>\n",
       "      <td>5</td>\n",
       "      <td>BIS</td>\n",
       "      <td>6bde4584a9276ef93a637ff1e51a4375349ba420</td>\n",
       "      <td>BIS</td>\n",
       "    </tr>\n",
       "    <tr>\n",
       "      <th>305</th>\n",
       "      <td>5</td>\n",
       "      <td>BIS</td>\n",
       "      <td>94450301875a2acb3cf56e621ed9fc4bb7ecc786</td>\n",
       "      <td>EEG1_WAV</td>\n",
       "    </tr>\n",
       "    <tr>\n",
       "      <th>306</th>\n",
       "      <td>5</td>\n",
       "      <td>BIS</td>\n",
       "      <td>e7b6798021cb3e108cd213afe94f8f668e285f56</td>\n",
       "      <td>EEG2_WAV</td>\n",
       "    </tr>\n",
       "    <tr>\n",
       "      <th>307</th>\n",
       "      <td>5</td>\n",
       "      <td>BIS</td>\n",
       "      <td>1d50194a5a1f1c081ad4c42078e9d61216711adb</td>\n",
       "      <td>EMG</td>\n",
       "    </tr>\n",
       "    <tr>\n",
       "      <th>308</th>\n",
       "      <td>5</td>\n",
       "      <td>BIS</td>\n",
       "      <td>acefb7d176a17f2d72a2886a2f7904bb64a5bac5</td>\n",
       "      <td>SEF</td>\n",
       "    </tr>\n",
       "    <tr>\n",
       "      <th>...</th>\n",
       "      <td>...</td>\n",
       "      <td>...</td>\n",
       "      <td>...</td>\n",
       "      <td>...</td>\n",
       "    </tr>\n",
       "    <tr>\n",
       "      <th>396</th>\n",
       "      <td>5</td>\n",
       "      <td>Solar8000</td>\n",
       "      <td>00f3117f227771a3ebdeea0a86a9cb6814de8714</td>\n",
       "      <td>VENT_MV</td>\n",
       "    </tr>\n",
       "    <tr>\n",
       "      <th>397</th>\n",
       "      <td>5</td>\n",
       "      <td>Solar8000</td>\n",
       "      <td>b608a8ee7acd530efdfc1590abbea6a5f5938027</td>\n",
       "      <td>VENT_PIP</td>\n",
       "    </tr>\n",
       "    <tr>\n",
       "      <th>398</th>\n",
       "      <td>5</td>\n",
       "      <td>Solar8000</td>\n",
       "      <td>81a63b8f638bada5928f2a9cb5db8f89ac2fced0</td>\n",
       "      <td>VENT_PPLAT</td>\n",
       "    </tr>\n",
       "    <tr>\n",
       "      <th>399</th>\n",
       "      <td>5</td>\n",
       "      <td>Solar8000</td>\n",
       "      <td>93f856b8ecb79534afa18aeb83f49001e51f16a9</td>\n",
       "      <td>VENT_RR</td>\n",
       "    </tr>\n",
       "    <tr>\n",
       "      <th>400</th>\n",
       "      <td>5</td>\n",
       "      <td>Solar8000</td>\n",
       "      <td>91c9e570310c5053efe7b931bbf4347641eb7431</td>\n",
       "      <td>VENT_TV</td>\n",
       "    </tr>\n",
       "  </tbody>\n",
       "</table>\n",
       "<p>97 rows × 4 columns</p>\n",
       "</div>"
      ],
      "text/plain": [
       "     caseid      tname                                       tid      tname2\n",
       "304       5        BIS  6bde4584a9276ef93a637ff1e51a4375349ba420         BIS\n",
       "305       5        BIS  94450301875a2acb3cf56e621ed9fc4bb7ecc786    EEG1_WAV\n",
       "306       5        BIS  e7b6798021cb3e108cd213afe94f8f668e285f56    EEG2_WAV\n",
       "307       5        BIS  1d50194a5a1f1c081ad4c42078e9d61216711adb         EMG\n",
       "308       5        BIS  acefb7d176a17f2d72a2886a2f7904bb64a5bac5         SEF\n",
       "..      ...        ...                                       ...         ...\n",
       "396       5  Solar8000  00f3117f227771a3ebdeea0a86a9cb6814de8714     VENT_MV\n",
       "397       5  Solar8000  b608a8ee7acd530efdfc1590abbea6a5f5938027    VENT_PIP\n",
       "398       5  Solar8000  81a63b8f638bada5928f2a9cb5db8f89ac2fced0  VENT_PPLAT\n",
       "399       5  Solar8000  93f856b8ecb79534afa18aeb83f49001e51f16a9     VENT_RR\n",
       "400       5  Solar8000  91c9e570310c5053efe7b931bbf4347641eb7431     VENT_TV\n",
       "\n",
       "[97 rows x 4 columns]"
      ]
     },
     "execution_count": 18,
     "metadata": {},
     "output_type": "execute_result"
    }
   ],
   "source": [
    "df[df['caseid']==5]"
   ]
  },
  {
   "cell_type": "code",
   "execution_count": 23,
   "metadata": {},
   "outputs": [
    {
     "data": {
      "text/html": [
       "<div>\n",
       "<style scoped>\n",
       "    .dataframe tbody tr th:only-of-type {\n",
       "        vertical-align: middle;\n",
       "    }\n",
       "\n",
       "    .dataframe tbody tr th {\n",
       "        vertical-align: top;\n",
       "    }\n",
       "\n",
       "    .dataframe thead th {\n",
       "        text-align: right;\n",
       "    }\n",
       "</style>\n",
       "<table border=\"1\" class=\"dataframe\">\n",
       "  <thead>\n",
       "    <tr style=\"text-align: right;\">\n",
       "      <th></th>\n",
       "      <th>caseid</th>\n",
       "      <th>tname</th>\n",
       "      <th>tid</th>\n",
       "      <th>tname2</th>\n",
       "    </tr>\n",
       "  </thead>\n",
       "  <tbody>\n",
       "    <tr>\n",
       "      <th>312</th>\n",
       "      <td>5</td>\n",
       "      <td>FMS</td>\n",
       "      <td>f0ccd35c2f4ec779c9da74410a3bd3c0d06ee2d6</td>\n",
       "      <td>FLOW_RATE</td>\n",
       "    </tr>\n",
       "    <tr>\n",
       "      <th>313</th>\n",
       "      <td>5</td>\n",
       "      <td>FMS</td>\n",
       "      <td>30be8515b78b13e7359580b7ed0450ed0f88e12f</td>\n",
       "      <td>INPUT_AMB_TEMP</td>\n",
       "    </tr>\n",
       "    <tr>\n",
       "      <th>314</th>\n",
       "      <td>5</td>\n",
       "      <td>FMS</td>\n",
       "      <td>11644b21858c813ec93a24355ea4ed4f16ded8d5</td>\n",
       "      <td>INPUT_TEMP</td>\n",
       "    </tr>\n",
       "    <tr>\n",
       "      <th>315</th>\n",
       "      <td>5</td>\n",
       "      <td>FMS</td>\n",
       "      <td>678b14a8100e87a9e258652b0427f0c7658d18e1</td>\n",
       "      <td>OUTPUT_AMB_TEMP</td>\n",
       "    </tr>\n",
       "    <tr>\n",
       "      <th>316</th>\n",
       "      <td>5</td>\n",
       "      <td>FMS</td>\n",
       "      <td>f1bb70ed438f98d1c473b7571c1ef45a016edfb3</td>\n",
       "      <td>OUTPUT_TEMP</td>\n",
       "    </tr>\n",
       "    <tr>\n",
       "      <th>317</th>\n",
       "      <td>5</td>\n",
       "      <td>FMS</td>\n",
       "      <td>d33fe880f7dbe62a19f2f911592bc4c5daf507c0</td>\n",
       "      <td>PRESSURE</td>\n",
       "    </tr>\n",
       "    <tr>\n",
       "      <th>318</th>\n",
       "      <td>5</td>\n",
       "      <td>FMS</td>\n",
       "      <td>325c1d0728fd23883c2d3d8b4b25657283dec364</td>\n",
       "      <td>TOTAL_VOL</td>\n",
       "    </tr>\n",
       "  </tbody>\n",
       "</table>\n",
       "</div>"
      ],
      "text/plain": [
       "     caseid tname                                       tid           tname2\n",
       "312       5   FMS  f0ccd35c2f4ec779c9da74410a3bd3c0d06ee2d6        FLOW_RATE\n",
       "313       5   FMS  30be8515b78b13e7359580b7ed0450ed0f88e12f   INPUT_AMB_TEMP\n",
       "314       5   FMS  11644b21858c813ec93a24355ea4ed4f16ded8d5       INPUT_TEMP\n",
       "315       5   FMS  678b14a8100e87a9e258652b0427f0c7658d18e1  OUTPUT_AMB_TEMP\n",
       "316       5   FMS  f1bb70ed438f98d1c473b7571c1ef45a016edfb3      OUTPUT_TEMP\n",
       "317       5   FMS  d33fe880f7dbe62a19f2f911592bc4c5daf507c0         PRESSURE\n",
       "318       5   FMS  325c1d0728fd23883c2d3d8b4b25657283dec364        TOTAL_VOL"
      ]
     },
     "execution_count": 23,
     "metadata": {},
     "output_type": "execute_result"
    }
   ],
   "source": [
    "df[(df['tname'] == 'FMS')&(df['caseid']==5)]"
   ]
  },
  {
   "cell_type": "code",
   "execution_count": null,
   "metadata": {},
   "outputs": [],
   "source": []
  }
 ],
 "metadata": {
  "kernelspec": {
   "display_name": "dsc80",
   "language": "python",
   "name": "python3"
  },
  "language_info": {
   "codemirror_mode": {
    "name": "ipython",
    "version": 3
   },
   "file_extension": ".py",
   "mimetype": "text/x-python",
   "name": "python",
   "nbconvert_exporter": "python",
   "pygments_lexer": "ipython3",
   "version": "3.8.18"
  }
 },
 "nbformat": 4,
 "nbformat_minor": 2
}
